{
 "cells": [
  {
   "cell_type": "markdown",
   "metadata": {},
   "source": [
    "# What is PIC-SURE"
   ]
  },
  {
   "cell_type": "markdown",
   "metadata": {},
   "source": [
    "PIC-SURE is a an ecosystem designed to handle very large amounts of data in a secure way.  This reduces the administrative load on researchers and allows them to better focus on Data Science discoveries.  PIC-SURE is composed of two major parts: 1) the PIC-SURE framework which handles communication, security, auditing and other system tasks, and 2) Datasets which are also described as \"data resources within the PIC-SURE service\".  The PIC-SURE also allows some \"data wrangling\" on the server, easing the amount of energy required by a researcher to load, process, and trim the data down to the details needed to conduct research.\n",
    "\n",
    "\n",
    "***What PIC-SURE does is allow you to filter a dataset to only the rows and columns that you are interested in***\n",
    "![title](../resources/HPDS_Diagram.gif)"
   ]
  },
  {
   "cell_type": "markdown",
   "metadata": {},
   "source": [
    "## PIC-SURE Connector and Adapter Libraries\n",
    "All operations on PIC-SURE rely upon two component libraries: The Connection Library, and a Datasource Adapter Library.  The connection library manages network communication and authentication.  Within a PIC-SURE instance exists one or more Datasources.  Each Datasources is of a specific type and are run using different server code.  For each type of Datasource there is a Datasource Adapter Library which is written specifically to communicate with it's particular type of Datasource.\n",
    "\n",
    "\n",
    "In Python, the conneciton library is imported using the following statement:\n",
    "\n",
    "    import PicSureClient\n",
    "    \n",
    "One Datasource Adapter that can be imported is for HPDS-typed datasets.  This can be imported using the following statement:\n",
    "\n",
    "    import PicSureHpdsLib"
   ]
  },
  {
   "cell_type": "code",
   "execution_count": 1,
   "metadata": {},
   "outputs": [
    {
     "name": "stdout",
     "output_type": "stream",
     "text": [
      "Collecting git+https://github.com/hms-dbmi/pic-sure-python-client.git\n",
      "  Cloning https://github.com/hms-dbmi/pic-sure-python-client.git to /tmp/pip-req-build-05fun733\n",
      "  Running command git clone -q https://github.com/hms-dbmi/pic-sure-python-client.git /tmp/pip-req-build-05fun733\n",
      "Requirement already satisfied (use --upgrade to upgrade): PicSureClient==0.1.0 from git+https://github.com/hms-dbmi/pic-sure-python-client.git in /opt/conda/lib/python3.5/site-packages\n",
      "Building wheels for collected packages: PicSureClient\n",
      "  Building wheel for PicSureClient (setup.py) ... \u001b[?25l-\b \b\\\b \bdone\n",
      "\u001b[?25h  Stored in directory: /tmp/pip-ephem-wheel-cache-j_regwbx/wheels/b4/c1/d9/744d4e1c1ba5f0c5d847deba1a7c8f96f47d4b36c610dda114\n",
      "Successfully built PicSureClient\n",
      "Collecting git+https://github.com/hms-dbmi/pic-sure-python-adapter-hpds.git\n",
      "  Cloning https://github.com/hms-dbmi/pic-sure-python-adapter-hpds.git to /tmp/pip-req-build-jcg_x9aa\n",
      "  Running command git clone -q https://github.com/hms-dbmi/pic-sure-python-adapter-hpds.git /tmp/pip-req-build-jcg_x9aa\n",
      "Requirement already satisfied (use --upgrade to upgrade): PicSureHpdsLib==0.9.0 from git+https://github.com/hms-dbmi/pic-sure-python-adapter-hpds.git in /opt/conda/lib/python3.5/site-packages\n",
      "Requirement already satisfied: httplib2 in /opt/conda/lib/python3.5/site-packages (from PicSureHpdsLib==0.9.0) (0.12.3)\n",
      "Building wheels for collected packages: PicSureHpdsLib\n",
      "  Building wheel for PicSureHpdsLib (setup.py) ... \u001b[?25l-\b \b\\\b \bdone\n",
      "\u001b[?25h  Stored in directory: /tmp/pip-ephem-wheel-cache-mnkx2gjc/wheels/6c/ac/12/4d142709d83e0bdd96c661e183f2dcbb0e03f90e98e5ac256e\n",
      "Successfully built PicSureHpdsLib\n",
      "Requirement already satisfied: pandas in /opt/conda/lib/python3.5/site-packages (0.24.2)\n",
      "Requirement already satisfied: numpy>=1.12.0 in /opt/conda/lib/python3.5/site-packages (from pandas) (1.16.3)\n",
      "Requirement already satisfied: pytz>=2011k in /opt/conda/lib/python3.5/site-packages (from pandas) (2019.1)\n",
      "Requirement already satisfied: python-dateutil>=2.5.0 in /opt/conda/lib/python3.5/site-packages (from pandas) (2.8.0)\n",
      "Requirement already satisfied: six>=1.5 in /opt/conda/lib/python3.5/site-packages (from python-dateutil>=2.5.0->pandas) (1.10.0)\n",
      "Requirement already satisfied: matplotlib in /opt/conda/lib/python3.5/site-packages (3.0.3)\n",
      "Requirement already satisfied: python-dateutil>=2.1 in /opt/conda/lib/python3.5/site-packages (from matplotlib) (2.8.0)\n",
      "Requirement already satisfied: pyparsing!=2.0.4,!=2.1.2,!=2.1.6,>=2.0.1 in /opt/conda/lib/python3.5/site-packages (from matplotlib) (2.4.0)\n",
      "Requirement already satisfied: numpy>=1.10.0 in /opt/conda/lib/python3.5/site-packages (from matplotlib) (1.16.3)\n",
      "Requirement already satisfied: kiwisolver>=1.0.1 in /opt/conda/lib/python3.5/site-packages (from matplotlib) (1.1.0)\n",
      "Requirement already satisfied: cycler>=0.10 in /opt/conda/lib/python3.5/site-packages (from matplotlib) (0.10.0)\n",
      "Requirement already satisfied: six>=1.5 in /opt/conda/lib/python3.5/site-packages (from python-dateutil>=2.1->matplotlib) (1.10.0)\n",
      "Requirement already satisfied: setuptools in /opt/conda/lib/python3.5/site-packages/setuptools-23.0.0-py3.5.egg (from kiwisolver>=1.0.1->matplotlib) (23.0.0)\n"
     ]
    }
   ],
   "source": [
    "# Install a pip package in the current Jupyter kernel\n",
    "import sys\n",
    "!{sys.executable} -m pip install --upgrade pip\n",
    "!{sys.executable} -m pip install git+https://github.com/hms-dbmi/pic-sure-python-client.git    \n",
    "!{sys.executable} -m pip install git+https://github.com/hms-dbmi/pic-sure-python-adapter-hpds.git\n",
    "!{sys.executable} -m pip install pandas\n",
    "!{sys.executable} -m pip install matplotlib    "
   ]
  },
  {
   "cell_type": "markdown",
   "metadata": {},
   "source": [
    "### Using the Connection Library to connect to a PIC-SURE endpoint\n",
    "\n",
    "\n",
    "The first step in using any PIC-SURE Resource is to establish a connection to the endpoint.  That is demonstrated the following code which: 1) imports the connection library, creates a reference to the library's communication client object, [then use the \"help()\" function on the client to see how to get the connection object]."
   ]
  },
  {
   "cell_type": "code",
   "execution_count": 1,
   "metadata": {},
   "outputs": [
    {
     "name": "stdout",
     "output_type": "stream",
     "text": [
      "\n",
      "        [HELP] PicSureClient.Client()\n",
      "            .version()                      gives version information for library\n",
      "            .connect(<url>, <token>)        returns a connection object\n",
      "        \n"
     ]
    }
   ],
   "source": [
    "import PicSureClient\n",
    "client = PicSureClient.Client()\n",
    "client.help()"
   ]
  },
  {
   "cell_type": "code",
   "execution_count": 2,
   "metadata": {
    "collapsed": true
   },
   "outputs": [],
   "source": [
    "# Now create a connection object by passing the PIC-SURE endpoint URL \n",
    "# and the security token to the client object's connect() function\n",
    "\n",
    "connection = client.connect(\"http://localhost/PIC-SURE\", \"your_security_token_here\")"
   ]
  },
  {
   "cell_type": "markdown",
   "metadata": {},
   "source": [
    "## Connect to the NHANES data resource using the HPDS Adapter\n",
    "\n",
    "After a valid connection is established to the PIC-SURE endpoint a Resource Adapter can be loaded and configured by passing the connection object to it's adapter object. Once the Adapter is connected, a PIC-SURE resource object is retreved by indicating its UUID to the Adapter's *useResource()* function."
   ]
  },
  {
   "cell_type": "code",
   "execution_count": 3,
   "metadata": {},
   "outputs": [
    {
     "name": "stdout",
     "output_type": "stream",
     "text": [
      "\n",
      "        [HELP] PicSureHpdsLib.Adapter(picsure_connection)\n",
      "            .version()                      gives version information for library\n",
      "            .list()                         lists available resources\n",
      "            .useResource(resource_uuid)     returns an object for selected resource\n",
      "        \n"
     ]
    }
   ],
   "source": [
    "import PicSureHpdsLib\n",
    "#adapter = PicSureHpdsLib.Adapter(connection)\n",
    "adapter = PicSureHpdsLib.BypassAdapter(\"http://pic-sure-hpds-nhanes:8080/PIC-SURE\")\n",
    "adapter.help()"
   ]
  },
  {
   "cell_type": "markdown",
   "metadata": {},
   "source": [
    "## Use adapter.list() to discover what data resource are available"
   ]
  },
  {
   "cell_type": "code",
   "execution_count": 4,
   "metadata": {},
   "outputs": [
    {
     "name": "stdout",
     "output_type": "stream",
     "text": [
      "+--------------------------------------+------------------------------------------------------\n",
      "|  Resource UUID                       |  Resource Name                                  \n",
      "+--------------------------------------+------------------------------------------------------\n",
      "| cfee4932-4b61-4f3e-856c-118dc13855d6 | PhenoCube v1.0-SNAPSHOT\n",
      "| Description: [Resource accessed directly (bypassing PIC-SURE framework)]\n",
      "+--------------------------------------+------------------------------------------------------\n"
     ]
    }
   ],
   "source": [
    "adapter.list()"
   ]
  },
  {
   "cell_type": "markdown",
   "metadata": {},
   "source": [
    "## Get a data resource reference to be able to work with a dataset"
   ]
  },
  {
   "cell_type": "code",
   "execution_count": 5,
   "metadata": {},
   "outputs": [
    {
     "name": "stdout",
     "output_type": "stream",
     "text": [
      "\n",
      "        [HELP] PicSureHpdsLib.useResource(resource_uuid)\n",
      "            .dictionary()       Used to access data dictionary of the resource\n",
      "            .query()            Used to query against data in the resource\n",
      "            \n",
      "        [ENVIRONMENT]\n",
      "              Endpoint URL: http://pic-sure-hpds-nhanes:8080/PIC-SURE/\n",
      "             Resource UUID: 91ad021c-00cb-4f44-98fb-72e0983fdd73\n"
     ]
    }
   ],
   "source": [
    "resource = adapter.useResource(\"91ad021c-00cb-4f44-98fb-72e0983fdd73\")\n",
    "resource.help()"
   ]
  }
 ],
 "metadata": {
  "kernelspec": {
   "display_name": "Python 3",
   "language": "python",
   "name": "python3"
  },
  "language_info": {
   "codemirror_mode": {
    "name": "ipython",
    "version": 3
   },
   "file_extension": ".py",
   "mimetype": "text/x-python",
   "name": "python",
   "nbconvert_exporter": "python",
   "pygments_lexer": "ipython3",
   "version": "3.6.7"
  }
 },
 "nbformat": 4,
 "nbformat_minor": 1
}
