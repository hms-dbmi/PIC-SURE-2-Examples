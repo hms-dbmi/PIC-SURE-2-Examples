{
 "cells": [
  {
   "cell_type": "markdown",
   "metadata": {},
   "source": [
    "## Connect to the NHANES data resource using the HPDS Adapter"
   ]
  },
  {
   "cell_type": "code",
   "execution_count": 1,
   "metadata": {
    "collapsed": true
   },
   "outputs": [],
   "source": [
    "import PicSureHpdsLib\n",
    "adapter = PicSureHpdsLib.BypassAdapter(\"http://pic-sure-hpds-nhanes:8080/PIC-SURE\")\n",
    "resource = adapter.useResource()"
   ]
  },
  {
   "cell_type": "markdown",
   "metadata": {},
   "source": [
    "## Use help() to discover what can be done (with the data resource)"
   ]
  },
  {
   "cell_type": "code",
   "execution_count": 2,
   "metadata": {},
   "outputs": [
    {
     "name": "stdout",
     "output_type": "stream",
     "text": [
      "\n",
      "        [HELP] PicSureHpdsLib.useResource(resource_uuid)\n",
      "            .dictionary()       Used to access data dictionary of the resource\n",
      "            .query()            Used to query against data in the resource\n",
      "            \n",
      "        [ENVIRONMENT]\n",
      "              Endpoint URL: http://pic-sure-hpds-nhanes:8080/PIC-SURE/\n",
      "             Resource UUID: None\n"
     ]
    }
   ],
   "source": [
    "resource.help()"
   ]
  },
  {
   "cell_type": "markdown",
   "metadata": {},
   "source": [
    "## Dictionary Functions"
   ]
  },
  {
   "cell_type": "code",
   "execution_count": 3,
   "metadata": {},
   "outputs": [
    {
     "name": "stdout",
     "output_type": "stream",
     "text": [
      "\n",
      "        [HELP] PicSureHpdsLib.Client(connection).useResource(uuid).dictionary()\n",
      "            .find()                 Lists all data dictionary entries\n",
      "            .find(search_string)    Lists matching data dictionary entries\n",
      "        \n"
     ]
    }
   ],
   "source": [
    "d = resource.dictionary()\n",
    "d.help()"
   ]
  },
  {
   "cell_type": "code",
   "execution_count": 4,
   "metadata": {},
   "outputs": [
    {
     "name": "stdout",
     "output_type": "stream",
     "text": [
      "\n",
      "        [HELP] PicSureHpdsLib.Client(connection).useResource(uuid).dictionary().find(term)\n",
      "            .count()        Returns the number of entries in the dictionary that match the given term\n",
      "            .keys()         Return the keys of the matching entries\n",
      "            .entries()      Return a list of matching dictionary entries\n",
      "            .DataFrame()    Return the entries in a Pandas-compatible format\n",
      "             \n",
      "        [Examples]\n",
      "            results = PicSureHpdsLib.Client(connection).useResource(uuid).dictionary().find(\"asthma\")\n",
      "            df = results.DataFrame()\n",
      "        \n"
     ]
    }
   ],
   "source": [
    "found_entries = d.find(\"demographics\")\n",
    "found_entries.help()"
   ]
  },
  {
   "cell_type": "code",
   "execution_count": 5,
   "metadata": {},
   "outputs": [
    {
     "data": {
      "text/plain": [
       "14"
      ]
     },
     "execution_count": 5,
     "metadata": {},
     "output_type": "execute_result"
    }
   ],
   "source": [
    "found_entries.count()"
   ]
  },
  {
   "cell_type": "code",
   "execution_count": 6,
   "metadata": {},
   "outputs": [
    {
     "data": {
      "text/plain": [
       "['\\\\demographics\\\\area\\\\',\n",
       " '\\\\demographics\\\\WTMEC4YR\\\\',\n",
       " '\\\\demographics\\\\DMDMARTL\\\\',\n",
       " '\\\\demographics\\\\SDMVPSU\\\\',\n",
       " '\\\\demographics\\\\education\\\\',\n",
       " '\\\\demographics\\\\DMDBORN\\\\',\n",
       " '\\\\demographics\\\\INDFMPIR\\\\',\n",
       " '\\\\demographics\\\\RACE\\\\',\n",
       " '\\\\demographics\\\\SES_LEVEL\\\\',\n",
       " '\\\\demographics\\\\SDDSRVYR\\\\',\n",
       " '\\\\demographics\\\\SEX\\\\',\n",
       " '\\\\demographics\\\\AGE\\\\',\n",
       " '\\\\demographics\\\\SDMVSTRA\\\\',\n",
       " '\\\\demographics\\\\WTMEC2YR\\\\']"
      ]
     },
     "execution_count": 6,
     "metadata": {},
     "output_type": "execute_result"
    }
   ],
   "source": [
    "found_entries.keys()"
   ]
  },
  {
   "cell_type": "code",
   "execution_count": 7,
   "metadata": {},
   "outputs": [
    {
     "data": {
      "text/html": [
       "<div>\n",
       "<style scoped>\n",
       "    .dataframe tbody tr th:only-of-type {\n",
       "        vertical-align: middle;\n",
       "    }\n",
       "\n",
       "    .dataframe tbody tr th {\n",
       "        vertical-align: top;\n",
       "    }\n",
       "\n",
       "    .dataframe thead th {\n",
       "        text-align: right;\n",
       "    }\n",
       "</style>\n",
       "<table border=\"1\" class=\"dataframe\">\n",
       "  <thead>\n",
       "    <tr style=\"text-align: right;\">\n",
       "      <th></th>\n",
       "      <th>HpdsDataType</th>\n",
       "      <th>categorical</th>\n",
       "      <th>categoryValues</th>\n",
       "      <th>max</th>\n",
       "      <th>min</th>\n",
       "      <th>observationCount</th>\n",
       "    </tr>\n",
       "  </thead>\n",
       "  <tbody>\n",
       "    <tr>\n",
       "      <th>\\demographics\\area\\</th>\n",
       "      <td>phenotypes</td>\n",
       "      <td>True</td>\n",
       "      <td>[1_1, 1_10, 1_11, 1_12, 1_13, 1_14, 1_15, 1_16...</td>\n",
       "      <td>NaN</td>\n",
       "      <td>NaN</td>\n",
       "      <td>41474</td>\n",
       "    </tr>\n",
       "    <tr>\n",
       "      <th>\\demographics\\WTMEC4YR\\</th>\n",
       "      <td>phenotypes</td>\n",
       "      <td>False</td>\n",
       "      <td>None</td>\n",
       "      <td>103831.17</td>\n",
       "      <td>0.0</td>\n",
       "      <td>21004</td>\n",
       "    </tr>\n",
       "    <tr>\n",
       "      <th>\\demographics\\DMDMARTL\\</th>\n",
       "      <td>phenotypes</td>\n",
       "      <td>False</td>\n",
       "      <td>None</td>\n",
       "      <td>99.00</td>\n",
       "      <td>1.0</td>\n",
       "      <td>26793</td>\n",
       "    </tr>\n",
       "    <tr>\n",
       "      <th>\\demographics\\SDMVPSU\\</th>\n",
       "      <td>phenotypes</td>\n",
       "      <td>False</td>\n",
       "      <td>None</td>\n",
       "      <td>3.00</td>\n",
       "      <td>1.0</td>\n",
       "      <td>41474</td>\n",
       "    </tr>\n",
       "    <tr>\n",
       "      <th>\\demographics\\education\\</th>\n",
       "      <td>phenotypes</td>\n",
       "      <td>False</td>\n",
       "      <td>None</td>\n",
       "      <td>2.00</td>\n",
       "      <td>0.0</td>\n",
       "      <td>34260</td>\n",
       "    </tr>\n",
       "    <tr>\n",
       "      <th>\\demographics\\DMDBORN\\</th>\n",
       "      <td>phenotypes</td>\n",
       "      <td>False</td>\n",
       "      <td>None</td>\n",
       "      <td>3.00</td>\n",
       "      <td>1.0</td>\n",
       "      <td>41445</td>\n",
       "    </tr>\n",
       "    <tr>\n",
       "      <th>\\demographics\\INDFMPIR\\</th>\n",
       "      <td>phenotypes</td>\n",
       "      <td>False</td>\n",
       "      <td>None</td>\n",
       "      <td>5.00</td>\n",
       "      <td>0.0</td>\n",
       "      <td>38076</td>\n",
       "    </tr>\n",
       "    <tr>\n",
       "      <th>\\demographics\\RACE\\</th>\n",
       "      <td>phenotypes</td>\n",
       "      <td>True</td>\n",
       "      <td>[black, mexican, other, other_hispanic, white]</td>\n",
       "      <td>NaN</td>\n",
       "      <td>NaN</td>\n",
       "      <td>41474</td>\n",
       "    </tr>\n",
       "    <tr>\n",
       "      <th>\\demographics\\SES_LEVEL\\</th>\n",
       "      <td>phenotypes</td>\n",
       "      <td>False</td>\n",
       "      <td>None</td>\n",
       "      <td>2.00</td>\n",
       "      <td>0.0</td>\n",
       "      <td>38076</td>\n",
       "    </tr>\n",
       "    <tr>\n",
       "      <th>\\demographics\\SDDSRVYR\\</th>\n",
       "      <td>phenotypes</td>\n",
       "      <td>False</td>\n",
       "      <td>None</td>\n",
       "      <td>4.00</td>\n",
       "      <td>1.0</td>\n",
       "      <td>41474</td>\n",
       "    </tr>\n",
       "    <tr>\n",
       "      <th>\\demographics\\SEX\\</th>\n",
       "      <td>phenotypes</td>\n",
       "      <td>True</td>\n",
       "      <td>[female, male]</td>\n",
       "      <td>NaN</td>\n",
       "      <td>NaN</td>\n",
       "      <td>41474</td>\n",
       "    </tr>\n",
       "    <tr>\n",
       "      <th>\\demographics\\AGE\\</th>\n",
       "      <td>phenotypes</td>\n",
       "      <td>False</td>\n",
       "      <td>None</td>\n",
       "      <td>85.00</td>\n",
       "      <td>0.0</td>\n",
       "      <td>41474</td>\n",
       "    </tr>\n",
       "    <tr>\n",
       "      <th>\\demographics\\SDMVSTRA\\</th>\n",
       "      <td>phenotypes</td>\n",
       "      <td>False</td>\n",
       "      <td>None</td>\n",
       "      <td>58.00</td>\n",
       "      <td>1.0</td>\n",
       "      <td>41474</td>\n",
       "    </tr>\n",
       "    <tr>\n",
       "      <th>\\demographics\\WTMEC2YR\\</th>\n",
       "      <td>phenotypes</td>\n",
       "      <td>False</td>\n",
       "      <td>None</td>\n",
       "      <td>261361.34</td>\n",
       "      <td>0.0</td>\n",
       "      <td>41474</td>\n",
       "    </tr>\n",
       "  </tbody>\n",
       "</table>\n",
       "</div>"
      ],
      "text/plain": [
       "                         HpdsDataType  categorical  \\\n",
       "\\demographics\\area\\        phenotypes         True   \n",
       "\\demographics\\WTMEC4YR\\    phenotypes        False   \n",
       "\\demographics\\DMDMARTL\\    phenotypes        False   \n",
       "\\demographics\\SDMVPSU\\     phenotypes        False   \n",
       "\\demographics\\education\\   phenotypes        False   \n",
       "\\demographics\\DMDBORN\\     phenotypes        False   \n",
       "\\demographics\\INDFMPIR\\    phenotypes        False   \n",
       "\\demographics\\RACE\\        phenotypes         True   \n",
       "\\demographics\\SES_LEVEL\\   phenotypes        False   \n",
       "\\demographics\\SDDSRVYR\\    phenotypes        False   \n",
       "\\demographics\\SEX\\         phenotypes         True   \n",
       "\\demographics\\AGE\\         phenotypes        False   \n",
       "\\demographics\\SDMVSTRA\\    phenotypes        False   \n",
       "\\demographics\\WTMEC2YR\\    phenotypes        False   \n",
       "\n",
       "                                                             categoryValues  \\\n",
       "\\demographics\\area\\       [1_1, 1_10, 1_11, 1_12, 1_13, 1_14, 1_15, 1_16...   \n",
       "\\demographics\\WTMEC4YR\\                                                None   \n",
       "\\demographics\\DMDMARTL\\                                                None   \n",
       "\\demographics\\SDMVPSU\\                                                 None   \n",
       "\\demographics\\education\\                                               None   \n",
       "\\demographics\\DMDBORN\\                                                 None   \n",
       "\\demographics\\INDFMPIR\\                                                None   \n",
       "\\demographics\\RACE\\          [black, mexican, other, other_hispanic, white]   \n",
       "\\demographics\\SES_LEVEL\\                                               None   \n",
       "\\demographics\\SDDSRVYR\\                                                None   \n",
       "\\demographics\\SEX\\                                           [female, male]   \n",
       "\\demographics\\AGE\\                                                     None   \n",
       "\\demographics\\SDMVSTRA\\                                                None   \n",
       "\\demographics\\WTMEC2YR\\                                                None   \n",
       "\n",
       "                                max  min  observationCount  \n",
       "\\demographics\\area\\             NaN  NaN             41474  \n",
       "\\demographics\\WTMEC4YR\\   103831.17  0.0             21004  \n",
       "\\demographics\\DMDMARTL\\       99.00  1.0             26793  \n",
       "\\demographics\\SDMVPSU\\         3.00  1.0             41474  \n",
       "\\demographics\\education\\       2.00  0.0             34260  \n",
       "\\demographics\\DMDBORN\\         3.00  1.0             41445  \n",
       "\\demographics\\INDFMPIR\\        5.00  0.0             38076  \n",
       "\\demographics\\RACE\\             NaN  NaN             41474  \n",
       "\\demographics\\SES_LEVEL\\       2.00  0.0             38076  \n",
       "\\demographics\\SDDSRVYR\\        4.00  1.0             41474  \n",
       "\\demographics\\SEX\\              NaN  NaN             41474  \n",
       "\\demographics\\AGE\\            85.00  0.0             41474  \n",
       "\\demographics\\SDMVSTRA\\       58.00  1.0             41474  \n",
       "\\demographics\\WTMEC2YR\\   261361.34  0.0             41474  "
      ]
     },
     "execution_count": 7,
     "metadata": {},
     "output_type": "execute_result"
    }
   ],
   "source": [
    "found_entries.DataFrame()"
   ]
  }
 ],
 "metadata": {
  "kernelspec": {
   "display_name": "Python 3",
   "language": "python",
   "name": "python3"
  },
  "language_info": {
   "codemirror_mode": {
    "name": "ipython",
    "version": 3
   },
   "file_extension": ".py",
   "mimetype": "text/x-python",
   "name": "python",
   "nbconvert_exporter": "python",
   "pygments_lexer": "ipython3",
   "version": "3.6.7"
  }
 },
 "nbformat": 4,
 "nbformat_minor": 1
}
