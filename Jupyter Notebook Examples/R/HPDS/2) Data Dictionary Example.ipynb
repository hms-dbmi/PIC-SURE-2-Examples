{
 "cells": [
  {
   "cell_type": "markdown",
   "metadata": {},
   "source": [
    "## Connect to the NHANES data resource using the HPDS Adapter"
   ]
  },
  {
   "cell_type": "code",
   "execution_count": 8,
   "metadata": {},
   "outputs": [],
   "source": [
    "library(PicSureClient)\n",
    "library(PicSureHpdsLib)\n",
    "\n",
    "adapter <- PicSureHpdsLib::BypassAdapter$new(\"http://pic-sure-hpds-nhanes:8080/PIC-SURE\")\n",
    "resource <- adapter$useResource()"
   ]
  },
  {
   "cell_type": "markdown",
   "metadata": {},
   "source": [
    "## Use help() to discover what can be done (with the data resource)"
   ]
  },
  {
   "cell_type": "code",
   "execution_count": 5,
   "metadata": {},
   "outputs": [
    {
     "name": "stdout",
     "output_type": "stream",
     "text": [
      "        [HELP] PicSureHpdsLib::Adapter$useResource(resource_uuid)\n",
      "            $dictionary()       Used to access data dictionary of the resource\n",
      "            $query()            Used to query against data in the resource\n",
      "        [ENVIRONMENT]\n",
      "            URL: http://pic-sure-hpds-nhanes:8080/PIC-SURE/\n",
      "  Resource UUID: FALSE\n"
     ]
    }
   ],
   "source": [
    "resource$help()"
   ]
  },
  {
   "cell_type": "markdown",
   "metadata": {},
   "source": [
    "## Dictionary Functions"
   ]
  },
  {
   "cell_type": "code",
   "execution_count": 12,
   "metadata": {},
   "outputs": [
    {
     "name": "stdout",
     "output_type": "stream",
     "text": [
      "        [HELP] PicSureHpdsLib::Adapter$new(connection)$useResource(uuid)$dictionary()\n",
      "            $find()                 Lists all data dictionary entries\n",
      "            $find(search_string)    Lists matching data dictionary entries\n"
     ]
    }
   ],
   "source": [
    "d <- resource$dictionary()\n",
    "d$help()"
   ]
  },
  {
   "cell_type": "code",
   "execution_count": 13,
   "metadata": {},
   "outputs": [
    {
     "name": "stderr",
     "output_type": "stream",
     "text": [
      "No encoding supplied: defaulting to UTF-8.\n"
     ]
    },
    {
     "name": "stdout",
     "output_type": "stream",
     "text": [
      "        [HELP] PicSureHpdsLib$Adapter(connection)$useResource(uuid)$dictionary()$find(term)\n",
      "            $count()        Returns the number of entries in the dictionary that match the given term\n",
      "            $keys()         Return the keys of the matching entries\n",
      "            $entries()      Return a list of matching dictionary entries\n",
      "            $DataFrame()    Return the entries in a DataFrame-compatible format\n",
      "\n",
      "        [Examples]\n",
      "            results = PicSureHpdsLib$Adapter(connection)$useResource(uuid)$dictionary()$find('asthma')\n",
      "            df = results$DataFrame()\n"
     ]
    }
   ],
   "source": [
    "found_entries <- d$find(\"asthma\")\n",
    "found_entries$help()"
   ]
  },
  {
   "cell_type": "code",
   "execution_count": 14,
   "metadata": {},
   "outputs": [
    {
     "data": {
      "text/html": [
       "2"
      ],
      "text/latex": [
       "2"
      ],
      "text/markdown": [
       "2"
      ],
      "text/plain": [
       "[1] 2"
      ]
     },
     "metadata": {},
     "output_type": "display_data"
    }
   ],
   "source": [
    "found_entries$count()"
   ]
  },
  {
   "cell_type": "code",
   "execution_count": 15,
   "metadata": {},
   "outputs": [
    {
     "data": {
      "text/html": [
       "<ol class=list-inline>\n",
       "\t<li>'\\\\questionnaire\\\\disease\\\\Ever asthma?\\\\'</li>\n",
       "\t<li>'\\\\questionnaire\\\\disease\\\\Current asthma?\\\\'</li>\n",
       "</ol>\n"
      ],
      "text/latex": [
       "\\begin{enumerate*}\n",
       "\\item '\\textbackslash{}\\textbackslash{}questionnaire\\textbackslash{}\\textbackslash{}disease\\textbackslash{}\\textbackslash{}Ever asthma?\\textbackslash{}\\textbackslash{}'\n",
       "\\item '\\textbackslash{}\\textbackslash{}questionnaire\\textbackslash{}\\textbackslash{}disease\\textbackslash{}\\textbackslash{}Current asthma?\\textbackslash{}\\textbackslash{}'\n",
       "\\end{enumerate*}\n"
      ],
      "text/markdown": [
       "1. '\\\\questionnaire\\\\disease\\\\Ever asthma?\\\\'\n",
       "2. '\\\\questionnaire\\\\disease\\\\Current asthma?\\\\'\n",
       "\n",
       "\n"
      ],
      "text/plain": [
       "[1] \"\\\\questionnaire\\\\disease\\\\Ever asthma?\\\\\"   \n",
       "[2] \"\\\\questionnaire\\\\disease\\\\Current asthma?\\\\\""
      ]
     },
     "metadata": {},
     "output_type": "display_data"
    }
   ],
   "source": [
    "found_entries$keys()"
   ]
  },
  {
   "cell_type": "code",
   "execution_count": 16,
   "metadata": {},
   "outputs": [
    {
     "data": {
      "text/html": [
       "<table>\n",
       "<thead><tr><th scope=col>name</th><th scope=col>categorical</th><th scope=col>categoryValues</th><th scope=col>observationCount</th><th scope=col>HpdsDataType</th></tr></thead>\n",
       "<tbody>\n",
       "\t<tr><td>\\questionnaire\\disease\\Ever asthma?\\   </td><td>TRUE                                       </td><td>No,Yes                                     </td><td>39379                                      </td><td>phenotypes                                 </td></tr>\n",
       "\t<tr><td>\\questionnaire\\disease\\Current asthma?\\</td><td>TRUE                                       </td><td>No,Yes                                     </td><td>37122                                      </td><td>phenotypes                                 </td></tr>\n",
       "</tbody>\n",
       "</table>\n"
      ],
      "text/latex": [
       "\\begin{tabular}{r|lllll}\n",
       " name & categorical & categoryValues & observationCount & HpdsDataType\\\\\n",
       "\\hline\n",
       "\t \\textbackslash{}questionnaire\\textbackslash{}disease\\textbackslash{}Ever asthma?\\textbackslash{}    & TRUE                                                                                                    & No,Yes                                                                                                  & 39379                                                                                                   & phenotypes                                                                                             \\\\\n",
       "\t \\textbackslash{}questionnaire\\textbackslash{}disease\\textbackslash{}Current asthma?\\textbackslash{} & TRUE                                                                                                    & No,Yes                                                                                                  & 37122                                                                                                   & phenotypes                                                                                             \\\\\n",
       "\\end{tabular}\n"
      ],
      "text/markdown": [
       "\n",
       "name | categorical | categoryValues | observationCount | HpdsDataType | \n",
       "|---|---|\n",
       "| \\questionnaire\\disease\\Ever asthma?\\    | TRUE                                        | No,Yes                                      | 39379                                       | phenotypes                                  | \n",
       "| \\questionnaire\\disease\\Current asthma?\\ | TRUE                                        | No,Yes                                      | 37122                                       | phenotypes                                  | \n",
       "\n",
       "\n"
      ],
      "text/plain": [
       "  name                                        categorical categoryValues\n",
       "1 \\\\questionnaire\\\\disease\\\\Ever asthma?\\\\    TRUE        No,Yes        \n",
       "2 \\\\questionnaire\\\\disease\\\\Current asthma?\\\\ TRUE        No,Yes        \n",
       "  observationCount HpdsDataType\n",
       "1 39379            phenotypes  \n",
       "2 37122            phenotypes  "
      ]
     },
     "metadata": {},
     "output_type": "display_data"
    }
   ],
   "source": [
    "found_entries$DataFrame()"
   ]
  }
 ],
 "metadata": {
  "kernelspec": {
   "display_name": "R",
   "language": "R",
   "name": "ir"
  },
  "language_info": {
   "codemirror_mode": "r",
   "file_extension": ".r",
   "mimetype": "text/x-r-source",
   "name": "R",
   "pygments_lexer": "r",
   "version": "3.4.1"
  }
 },
 "nbformat": 4,
 "nbformat_minor": 1
}
