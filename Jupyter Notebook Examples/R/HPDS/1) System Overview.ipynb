{
 "cells": [
  {
   "cell_type": "markdown",
   "metadata": {},
   "source": [
    "# What is PIC-SURE"
   ]
  },
  {
   "cell_type": "markdown",
   "metadata": {},
   "source": [
    "PIC-SURE is a an ecosystem designed to handle very large amounts of data in a secure way.  This reduces the administrative load on researchers and allows them to better focus on Data Science discoveries.  PIC-SURE is composed of two major parts: 1) the PIC-SURE framework which handles communication, security, auditing and other system tasks, and 2) Datasets which are also described as \"data resources within the PIC-SURE service\".  The PIC-SURE also allows some \"data wrangling\" on the server, easing the amount of energy required by a researcher to load, process, and trim the data down to the details needed to conduct research.\n",
    "\n",
    "\n",
    "***What PIC-SURE does is allow you to filter a dataset to only the rows and columns that you are interested in***\n",
    "![title](../resources/HPDS_Diagram.gif)"
   ]
  },
  {
   "cell_type": "markdown",
   "metadata": {},
   "source": [
    "### Install the libraries from Github"
   ]
  },
  {
   "cell_type": "code",
   "execution_count": 17,
   "metadata": {},
   "outputs": [
    {
     "name": "stderr",
     "output_type": "stream",
     "text": [
      "Downloading GitHub repo hms-dbmi/pic-sure-r-client@master\n",
      "Warning message in is.na(remote_deps$package):\n",
      "“is.na() applied to non-(list or vector) of type 'NULL'”"
     ]
    },
    {
     "name": "stdout",
     "output_type": "stream",
     "text": [
      "\n",
      "  \r",
      "   checking for file ‘/tmp/RtmpCWy34C/remotesc35450c3e8/hms-dbmi-pic-sure-r-client-528d307/DESCRIPTION’ ...\r",
      "  \r",
      "✔  checking for file ‘/tmp/RtmpCWy34C/remotesc35450c3e8/hms-dbmi-pic-sure-r-client-528d307/DESCRIPTION’\n",
      "\r",
      "  \r",
      "─  preparing ‘PicSureClient’:\n",
      "\r",
      "  \r",
      "   checking DESCRIPTION meta-information ...\r",
      "  \r",
      "✔  checking DESCRIPTION meta-information\n",
      "\r",
      "  \r",
      "─  checking for LF line-endings in source and make files\n",
      "\r",
      "  \r",
      "─  checking for empty or unneeded directories\n",
      "─  building ‘PicSureClient_0.1.0.tar.gz’\n",
      "\r",
      "  \r",
      "   \n",
      "\r"
     ]
    },
    {
     "name": "stderr",
     "output_type": "stream",
     "text": [
      "Downloading GitHub repo hms-dbmi/pic-sure-r-adapter-hpds@master\n",
      "Warning message in is.na(remote_deps$package):\n",
      "“is.na() applied to non-(list or vector) of type 'NULL'”"
     ]
    },
    {
     "name": "stdout",
     "output_type": "stream",
     "text": [
      "\n",
      "  \r",
      "   checking for file ‘/tmp/RtmpCWy34C/remotesc35776a65fe/hms-dbmi-pic-sure-r-adapter-hpds-d935ffe/DESCRIPTION’ ...\r",
      "  \r",
      "✔  checking for file ‘/tmp/RtmpCWy34C/remotesc35776a65fe/hms-dbmi-pic-sure-r-adapter-hpds-d935ffe/DESCRIPTION’\n",
      "\r",
      "  \r",
      "─  preparing ‘PicSureHpdsLib’:\n",
      "\r",
      "  \r",
      "   checking DESCRIPTION meta-information ...\r",
      "  \r",
      "✔  checking DESCRIPTION meta-information\n",
      "\r",
      "  \r",
      "─  checking for LF line-endings in source and make files\n",
      "\r",
      "  \r",
      "─  checking for empty or unneeded directories\n",
      "─  building ‘PicSureHpdsLib_0.9.0.tar.gz’\n",
      "\r",
      "  \r",
      "   \n",
      "\r"
     ]
    }
   ],
   "source": [
    "#install.packages(\"devtools\", repos=\"https://cran.r-project.org\")\n",
    "library(devtools)\n",
    "\n",
    "if (file.exists(Sys.getenv(\"TAR\")) == FALSE)  {\n",
    "    Sys.setenv(TAR = \"/bin/tar\")\n",
    "}\n",
    "\n",
    "devtools::install_github(\"hms-dbmi/pic-sure-r-client\", force = TRUE)\n",
    "devtools::install_github(\"hms-dbmi/pic-sure-r-adapter-hpds\", force = TRUE)"
   ]
  },
  {
   "cell_type": "markdown",
   "metadata": {},
   "source": [
    "## PIC-SURE Connector and Adapter Libraries\n",
    "All operations on PIC-SURE rely upon two component libraries: The Connection Library, and a Datasource Adapter Library.  The connection library manages network communication and authentication.  Within a PIC-SURE instance exists one or more Datasources.  Each Datasources is of a specific type and are run using different server code.  For each type of Datasource there is a Datasource Adapter Library which is written specifically to communicate with it's particular type of Datasource.\n",
    "\n",
    "\n",
    "In R, the conneciton library is imported using the following statement:\n",
    "\n",
    "    library(PicSureClient)\n",
    "    \n",
    "One Datasource Adapter that can be imported is for HPDS-typed datasets.  This can be imported using the following statement:\n",
    "\n",
    "    library(PicSureHpdsLib)"
   ]
  },
  {
   "cell_type": "markdown",
   "metadata": {},
   "source": [
    "### Using the Connection Library to connect to a PIC-SURE endpoint\n",
    "\n",
    "\n",
    "The first step in using any PIC-SURE Resource is to establish a connection to the endpoint.  That is demonstrated the following code which: 1) imports the connection library, creates a reference to the library's communication client object, [then use the \"help()\" function on the client to see how to get the connection object]."
   ]
  },
  {
   "cell_type": "code",
   "execution_count": 3,
   "metadata": {},
   "outputs": [
    {
     "name": "stdout",
     "output_type": "stream",
     "text": [
      "        [HELP] PicSureClient::Client$new()\n",
      "            $version()                      gives version information for library\n",
      "            $connect(<url>, <token>)        returns a connection object\n"
     ]
    }
   ],
   "source": [
    "library(PicSureClient)\n",
    "\n",
    "client <- PicSureClient::Client$new()\n",
    "client$help()"
   ]
  },
  {
   "cell_type": "code",
   "execution_count": null,
   "metadata": {},
   "outputs": [],
   "source": [
    "# Now create a connection object by passing the PIC-SURE endpoint URL \n",
    "# and the security token to the client object's connect() function\n",
    "\n",
    "connection <- client$connect(\"http://localhost/PIC-SURE\", \"your_security_token_here\")\n",
    "connection$help()"
   ]
  },
  {
   "cell_type": "markdown",
   "metadata": {},
   "source": [
    "## Connect to the NHANES data resource using the HPDS Adapter\n",
    "\n",
    "After a valid connection is established to the PIC-SURE endpoint a Resource Adapter can be loaded and configured by passing the connection object to it's adapter object. Once the Adapter is connected, a PIC-SURE resource object is retreved by indicating its UUID to the Adapter's *useResource()* function."
   ]
  },
  {
   "cell_type": "code",
   "execution_count": 15,
   "metadata": {},
   "outputs": [
    {
     "name": "stdout",
     "output_type": "stream",
     "text": [
      "        [HELP] PicSureHpdsLib::BypassAdapter$new(HPDS_Url, Security_Token)\n",
      "            $version()                      gives version information for library\n",
      "            $list()                         lists available resources\n",
      "            $useResource(resource_uuid)     returns an object for selected resource\n"
     ]
    }
   ],
   "source": [
    "library(PicSureHpdsLib)\n",
    "\n",
    "#adapter <- PicSureHpdsLib::Adapter(connection)\n",
    "adapter <- PicSureHpdsLib::BypassAdapter$new(\"http://pic-sure-hpds-nhanes:8080/PIC-SURE\", FALSE)\n",
    "adapter$help()"
   ]
  },
  {
   "cell_type": "markdown",
   "metadata": {},
   "source": [
    "## Use adapter.list() to discover what data resource are available"
   ]
  },
  {
   "cell_type": "code",
   "execution_count": 11,
   "metadata": {},
   "outputs": [
    {
     "name": "stdout",
     "output_type": "stream",
     "text": [
      "[1] \"--------------------------------------+------------------------------------------------------+\"\n",
      "[1] \"                       | Resource UUID                                        | Resource Name\"\n",
      "[1] \"--------------------------------------+------------------------------------------------------+\"\n",
      "[1] \"| 9e98713a-da6a-4cb7-a1e7-561bed49d5bf  |   PhenoCube v1.0-SNAPSHOT \"\n",
      "[1] \"| Description: [Resource accessed directly (bypassing PIC-SURE framework)]\"\n",
      "[1] \"--------------------------------------+------------------------------------------------------+\"\n"
     ]
    }
   ],
   "source": [
    "adapter$list()"
   ]
  },
  {
   "cell_type": "markdown",
   "metadata": {},
   "source": [
    "## Get a data resource reference to be able to work with a dataset"
   ]
  },
  {
   "cell_type": "code",
   "execution_count": 12,
   "metadata": {},
   "outputs": [
    {
     "name": "stdout",
     "output_type": "stream",
     "text": [
      "        [HELP] PicSureHpdsLib::Adapter$useResource(resource_uuid)\n",
      "            $dictionary()       Used to access data dictionary of the resource\n",
      "            $query()            Used to query against data in the resource\n",
      "        [ENVIRONMENT]\n",
      "            URL: \n",
      "http://pic-sure-hpds-nhanes:8080/PIC-SURE/  Resource UUID: \n",
      "91ad021c-00cb-4f44-98fb-72e0983fdd73"
     ]
    }
   ],
   "source": [
    "resource <- adapter$useResource(\"91ad021c-00cb-4f44-98fb-72e0983fdd73\")\n",
    "resource$help()"
   ]
  }
 ],
 "metadata": {
  "kernelspec": {
   "display_name": "R",
   "language": "R",
   "name": "ir"
  },
  "language_info": {
   "codemirror_mode": "r",
   "file_extension": ".r",
   "mimetype": "text/x-r-source",
   "name": "R",
   "pygments_lexer": "r",
   "version": "3.4.1"
  }
 },
 "nbformat": 4,
 "nbformat_minor": 1
}
